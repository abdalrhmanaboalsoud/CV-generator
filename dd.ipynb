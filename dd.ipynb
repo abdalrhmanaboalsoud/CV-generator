{
 "cells": [
  {
   "cell_type": "code",
   "execution_count": 1,
   "metadata": {},
   "outputs": [
    {
     "ename": "KeyError",
     "evalue": "'city'",
     "output_type": "error",
     "traceback": [
      "\u001b[0;31m---------------------------------------------------------------------------\u001b[0m",
      "\u001b[0;31mKeyError\u001b[0m                                  Traceback (most recent call last)",
      "Cell \u001b[0;32mIn[1], line 30\u001b[0m\n\u001b[1;32m     21\u001b[0m         template_content \u001b[38;5;241m=\u001b[39m template_file\u001b[38;5;241m.\u001b[39mread()\n\u001b[1;32m     23\u001b[0m     \u001b[38;5;66;03m# Split the skills and languages input into separate lists\u001b[39;00m\n\u001b[1;32m     24\u001b[0m     \u001b[38;5;66;03m# skills_list = skills.split(',')\u001b[39;00m\n\u001b[1;32m     25\u001b[0m     \u001b[38;5;66;03m# language_levels = languages.split(',')\u001b[39;00m\n\u001b[0;32m   (...)\u001b[0m\n\u001b[1;32m     28\u001b[0m \n\u001b[1;32m     29\u001b[0m     \u001b[38;5;66;03m# Replace placeholders with user information\u001b[39;00m\n\u001b[0;32m---> 30\u001b[0m     modified_content \u001b[38;5;241m=\u001b[39m \u001b[43mtemplate_content\u001b[49m\u001b[38;5;241;43m.\u001b[39;49m\u001b[43mformat\u001b[49m\u001b[43m(\u001b[49m\n\u001b[1;32m     31\u001b[0m \u001b[43m        \u001b[49m\u001b[43mName\u001b[49m\u001b[38;5;241;43m=\u001b[39;49m\u001b[43mname\u001b[49m\u001b[43m,\u001b[49m\n\u001b[1;32m     32\u001b[0m \u001b[43m        \u001b[49m\u001b[43mphone_number\u001b[49m\u001b[38;5;241;43m=\u001b[39;49m\u001b[43mphone_number\u001b[49m\u001b[43m,\u001b[49m\n\u001b[1;32m     33\u001b[0m \u001b[43m        \u001b[49m\u001b[43memail\u001b[49m\u001b[38;5;241;43m=\u001b[39;49m\u001b[43memail\u001b[49m\n\u001b[1;32m     34\u001b[0m \u001b[43m        \u001b[49m\u001b[38;5;66;43;03m# city=city,\u001b[39;49;00m\n\u001b[1;32m     35\u001b[0m \u001b[43m        \u001b[49m\u001b[38;5;66;43;03m# university_name=university_name,\u001b[39;49;00m\n\u001b[1;32m     36\u001b[0m \u001b[43m        \u001b[49m\u001b[38;5;66;43;03m# major=major,\u001b[39;49;00m\n\u001b[1;32m     37\u001b[0m \u001b[43m        \u001b[49m\u001b[38;5;66;43;03m# graduation_date=graduation_date,\u001b[39;49;00m\n\u001b[1;32m     38\u001b[0m \u001b[43m        \u001b[49m\u001b[38;5;66;43;03m# company_name=company_name,\u001b[39;49;00m\n\u001b[1;32m     39\u001b[0m \u001b[43m        \u001b[49m\u001b[38;5;66;43;03m# job_title=job_title,\u001b[39;49;00m\n\u001b[1;32m     40\u001b[0m \u001b[43m        \u001b[49m\u001b[38;5;66;43;03m# your_responsibilities=responsibilities,\u001b[39;49;00m\n\u001b[1;32m     41\u001b[0m \u001b[43m        \u001b[49m\u001b[38;5;66;43;03m# skill_01=skills_list[0].strip() if len(skills_list) > 0 else \"\",\u001b[39;49;00m\n\u001b[1;32m     42\u001b[0m \u001b[43m        \u001b[49m\u001b[38;5;66;43;03m# skill_02=skills_list[1].strip() if len(skills_list) > 1 else \"\",\u001b[39;49;00m\n\u001b[1;32m     43\u001b[0m \u001b[43m        \u001b[49m\u001b[38;5;66;43;03m# skill_03=skills_list[2].strip() if len(skills_list) > 2 else \"\",\u001b[39;49;00m\n\u001b[1;32m     44\u001b[0m \u001b[43m        \u001b[49m\u001b[38;5;66;43;03m# skill_04=skills_list[3].strip() if len(skills_list) > 3 else \"\",\u001b[39;49;00m\n\u001b[1;32m     45\u001b[0m \u001b[43m        \u001b[49m\u001b[38;5;66;43;03m# Arabic_language_level=arabic_level,\u001b[39;49;00m\n\u001b[1;32m     46\u001b[0m \u001b[43m        \u001b[49m\u001b[38;5;66;43;03m# English_language_level=english_level\u001b[39;49;00m\n\u001b[1;32m     47\u001b[0m \u001b[43m    \u001b[49m\u001b[43m)\u001b[49m\n\u001b[1;32m     49\u001b[0m \u001b[38;5;28;01mexcept\u001b[39;00m \u001b[38;5;167;01mFileNotFoundError\u001b[39;00m:\n\u001b[1;32m     50\u001b[0m     \u001b[38;5;28mprint\u001b[39m(\u001b[38;5;124m\"\u001b[39m\u001b[38;5;124mTemplate file not found. Please check the file path.\u001b[39m\u001b[38;5;124m\"\u001b[39m)\n",
      "\u001b[0;31mKeyError\u001b[0m: 'city'"
     ]
    }
   ],
   "source": [
    "# Collect user information\n",
    "name = input(\"Enter your name: \")\n",
    "phone_number = input(\"Enter your phone number: \")\n",
    "email = input(\"Enter your email: \")\n",
    "city = input(\"Enter your city: \")\n",
    "university_name = input(\"Enter your university name: \")\n",
    "major = input(\"Enter your major: \")\n",
    "graduation_date = input(\"Enter your graduation date: \")\n",
    "company_name = input(\"Enter your company name: \")\n",
    "job_title = input(\"Enter your job title: \")\n",
    "responsibilities = input(\"Enter your responsibilities: \")\n",
    "skills = input(\"Enter your skills (comma-separated): \")\n",
    "languages = input(\"Enter your language levels (comma-separated): \")\n",
    "\n",
    "# Initialize an empty string for the modified content\n",
    "modified_content = \"\"\n",
    "\n",
    "# Try to read the content of the template file\n",
    "try:\n",
    "    with open('assets/cv_template.txt', 'r') as template_file:\n",
    "        template_content = template_file.read()\n",
    "\n",
    "    # Split the skills and languages input into separate lists\n",
    "    skills_list = skills.split(',')\n",
    "    language_levels = languages.split(',')\n",
    "    arabic_level = language_levels[0].strip() if len(language_levels) > 0 else \"\"\n",
    "    english_level = language_levels[1].strip() if len(language_levels) > 1 else \"\"\n",
    "\n",
    "    # Replace placeholders with user information\n",
    "    modified_content = template_content.format(\n",
    "        Name=name,\n",
    "        phone_number=phone_number,\n",
    "        email=email,\n",
    "        city=city,\n",
    "        university_name=university_name,\n",
    "        major=major,\n",
    "        graduation_date=graduation_date,\n",
    "        company_name=company_name,\n",
    "        job_title=job_title,\n",
    "        your_responsibilities=responsibilities,\n",
    "        skill_01=skills_list[0].strip() if len(skills_list) > 0 else \"\",\n",
    "        skill_02=skills_list[1].strip() if len(skills_list) > 1 else \"\",\n",
    "        skill_03=skills_list[2].strip() if len(skills_list) > 2 else \"\",\n",
    "        skill_04=skills_list[3].strip() if len(skills_list) > 3 else \"\",\n",
    "        Arabic_language_level=arabic_level,\n",
    "        English_language_level=english_level\n",
    "    )\n",
    "\n",
    "except FileNotFoundError:\n",
    "    print(\"Template file not found. Please check the file path.\")\n",
    "\n",
    "# Try to write the modified content to a new file\n",
    "if modified_content:\n",
    "    try:\n",
    "        with open('assets/my_cv.txt', 'w') as cv_file:\n",
    "            cv_file.write(modified_content)\n",
    "        print(\"CV has been generated with your information.\")\n",
    "    except IOError:\n",
    "        print(\"Could not write to file. Please check the file path and permissions.\")\n"
   ]
  }
 ],
 "metadata": {
  "kernelspec": {
   "display_name": ".venv",
   "language": "python",
   "name": "python3"
  },
  "language_info": {
   "codemirror_mode": {
    "name": "ipython",
    "version": 3
   },
   "file_extension": ".py",
   "mimetype": "text/x-python",
   "name": "python",
   "nbconvert_exporter": "python",
   "pygments_lexer": "ipython3",
   "version": "3.9.5"
  }
 },
 "nbformat": 4,
 "nbformat_minor": 2
}
